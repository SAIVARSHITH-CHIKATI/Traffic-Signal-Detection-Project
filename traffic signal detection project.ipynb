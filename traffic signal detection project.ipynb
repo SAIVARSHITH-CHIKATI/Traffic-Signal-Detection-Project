{
 "cells": [
  {
   "cell_type": "code",
   "execution_count": 1,
   "id": "8c27208c",
   "metadata": {},
   "outputs": [],
   "source": [
    "import tensorflow as tf"
   ]
  },
  {
   "cell_type": "code",
   "execution_count": 2,
   "id": "56ae0a0b",
   "metadata": {},
   "outputs": [],
   "source": [
    "import cv2"
   ]
  },
  {
   "cell_type": "code",
   "execution_count": 3,
   "id": "35f348af",
   "metadata": {},
   "outputs": [],
   "source": [
    "import numpy as np"
   ]
  },
  {
   "cell_type": "code",
   "execution_count": 4,
   "id": "78418239",
   "metadata": {},
   "outputs": [],
   "source": [
    "import keras"
   ]
  },
  {
   "cell_type": "code",
   "execution_count": 5,
   "id": "15ab37e2",
   "metadata": {},
   "outputs": [],
   "source": [
    "import os"
   ]
  },
  {
   "cell_type": "code",
   "execution_count": 6,
   "id": "36707957",
   "metadata": {},
   "outputs": [
    {
     "name": "stdout",
     "output_type": "stream",
     "text": [
      "Loading Data In Folder 0\n",
      "Loading Data In Folder 1\n",
      "Loading Data In Folder 2\n",
      "Loading Data In Folder 3\n",
      "Loading Data In Folder 4\n",
      "Loading Data In Folder 5\n",
      "Loading Data In Folder 6\n",
      "Loading Data In Folder 7\n",
      "Loading Data In Folder 8\n",
      "Loading Data In Folder 9\n",
      "Loading Data In Folder 10\n",
      "Loading Data In Folder 11\n",
      "Loading Data In Folder 12\n",
      "Loading Data In Folder 13\n",
      "Loading Data In Folder 14\n",
      "Loading Data In Folder 15\n",
      "Loading Data In Folder 16\n",
      "Loading Data In Folder 17\n",
      "Loading Data In Folder 18\n",
      "Loading Data In Folder 19\n",
      "Loading Data In Folder 20\n",
      "Loading Data In Folder 21\n",
      "Loading Data In Folder 22\n",
      "Loading Data In Folder 23\n",
      "Loading Data In Folder 24\n",
      "Loading Data In Folder 25\n",
      "Loading Data In Folder 26\n",
      "Loading Data In Folder 27\n",
      "Loading Data In Folder 28\n",
      "Loading Data In Folder 29\n",
      "Loading Data In Folder 30\n",
      "Loading Data In Folder 31\n",
      "Loading Data In Folder 32\n",
      "Loading Data In Folder 33\n",
      "Loading Data In Folder 34\n",
      "Loading Data In Folder 35\n",
      "Loading Data In Folder 36\n",
      "Loading Data In Folder 37\n",
      "Loading Data In Folder 38\n",
      "Loading Data In Folder 39\n",
      "Loading Data In Folder 40\n",
      "Loading Data In Folder 41\n",
      "Loading Data In Folder 42\n"
     ]
    }
   ],
   "source": [
    "features = []\n",
    "target = []\n",
    "for x in list(range(0,43)):\n",
    "    ImageNamesList = os.listdir(\"D:/inmovidu_AI/TrafficData/myData\" + \"/\" + str(x))\n",
    "    for y in ImageNamesList:\n",
    "        img = cv2.imread(\"D:/inmovidu_AI/TrafficData/myData\" + \"/\" + str(x) + \"/\" + y)\n",
    "        features.append(img)\n",
    "        target.append(x)\n",
    "    print(\"Loading Data In Folder\",x)"
   ]
  },
  {
   "cell_type": "code",
   "execution_count": 7,
   "id": "6a584fc8",
   "metadata": {},
   "outputs": [
    {
     "data": {
      "text/plain": [
       "list"
      ]
     },
     "execution_count": 7,
     "metadata": {},
     "output_type": "execute_result"
    }
   ],
   "source": [
    "type(features)"
   ]
  },
  {
   "cell_type": "code",
   "execution_count": 8,
   "id": "f459d917",
   "metadata": {},
   "outputs": [
    {
     "data": {
      "text/plain": [
       "list"
      ]
     },
     "execution_count": 8,
     "metadata": {},
     "output_type": "execute_result"
    }
   ],
   "source": [
    "type(target)"
   ]
  },
  {
   "cell_type": "code",
   "execution_count": 9,
   "id": "a9bbe293",
   "metadata": {},
   "outputs": [],
   "source": [
    "features = np.array(features)"
   ]
  },
  {
   "cell_type": "code",
   "execution_count": 10,
   "id": "76b03564",
   "metadata": {},
   "outputs": [],
   "source": [
    "target = np.array(target)"
   ]
  },
  {
   "cell_type": "code",
   "execution_count": 11,
   "id": "d7145d7c",
   "metadata": {},
   "outputs": [
    {
     "data": {
      "text/plain": [
       "numpy.ndarray"
      ]
     },
     "execution_count": 11,
     "metadata": {},
     "output_type": "execute_result"
    }
   ],
   "source": [
    "type(features)"
   ]
  },
  {
   "cell_type": "code",
   "execution_count": 12,
   "id": "39e45b61",
   "metadata": {},
   "outputs": [
    {
     "data": {
      "text/plain": [
       "numpy.ndarray"
      ]
     },
     "execution_count": 12,
     "metadata": {},
     "output_type": "execute_result"
    }
   ],
   "source": [
    "type(target)"
   ]
  },
  {
   "cell_type": "code",
   "execution_count": 13,
   "id": "5dac7eb8",
   "metadata": {},
   "outputs": [
    {
     "data": {
      "text/plain": [
       "(34790, 32, 32, 3)"
      ]
     },
     "execution_count": 13,
     "metadata": {},
     "output_type": "execute_result"
    }
   ],
   "source": [
    "features.shape"
   ]
  },
  {
   "cell_type": "code",
   "execution_count": 14,
   "id": "8b2f9cb2",
   "metadata": {},
   "outputs": [
    {
     "data": {
      "text/plain": [
       "(34790,)"
      ]
     },
     "execution_count": 14,
     "metadata": {},
     "output_type": "execute_result"
    }
   ],
   "source": [
    "target.shape"
   ]
  },
  {
   "cell_type": "code",
   "execution_count": 15,
   "id": "09c0825b",
   "metadata": {},
   "outputs": [],
   "source": [
    "from sklearn.model_selection import train_test_split"
   ]
  },
  {
   "cell_type": "code",
   "execution_count": 16,
   "id": "db40d99f",
   "metadata": {},
   "outputs": [],
   "source": [
    "train_features,test_features,train_targets,test_targets = train_test_split(features,target,test_size = 0.2)"
   ]
  },
  {
   "cell_type": "code",
   "execution_count": 17,
   "id": "68d7ad5c",
   "metadata": {},
   "outputs": [],
   "source": [
    "def preprocessing(image):\n",
    "    image = cv2.cvtColor(image,cv2.COLOR_BGR2GRAY)\n",
    "    image = image/255\n",
    "    return image"
   ]
  },
  {
   "cell_type": "code",
   "execution_count": 18,
   "id": "ee754f90",
   "metadata": {},
   "outputs": [],
   "source": [
    "train_features = np.array(list(map(preprocessing,train_features)))"
   ]
  },
  {
   "cell_type": "code",
   "execution_count": 19,
   "id": "3201439a",
   "metadata": {},
   "outputs": [],
   "source": [
    "test_features = np.array(list(map(preprocessing,test_features)))"
   ]
  },
  {
   "cell_type": "code",
   "execution_count": 20,
   "id": "0ebe9d65",
   "metadata": {},
   "outputs": [
    {
     "data": {
      "text/plain": [
       "(27832, 32, 32)"
      ]
     },
     "execution_count": 20,
     "metadata": {},
     "output_type": "execute_result"
    }
   ],
   "source": [
    "train_features.shape"
   ]
  },
  {
   "cell_type": "code",
   "execution_count": 21,
   "id": "40b87825",
   "metadata": {},
   "outputs": [],
   "source": [
    "train_features = train_features.reshape(27832,32,32,1)"
   ]
  },
  {
   "cell_type": "code",
   "execution_count": 22,
   "id": "d62998fb",
   "metadata": {},
   "outputs": [
    {
     "data": {
      "text/plain": [
       "(27832, 32, 32, 1)"
      ]
     },
     "execution_count": 22,
     "metadata": {},
     "output_type": "execute_result"
    }
   ],
   "source": [
    "train_features.shape"
   ]
  },
  {
   "cell_type": "code",
   "execution_count": 23,
   "id": "e910b848",
   "metadata": {},
   "outputs": [],
   "source": [
    "from keras.preprocessing.image import ImageDataGenerator"
   ]
  },
  {
   "cell_type": "code",
   "execution_count": 24,
   "id": "e88a7e49",
   "metadata": {},
   "outputs": [],
   "source": [
    "dataGen = ImageDataGenerator(rotation_range = 10,height_shift_range = 0.1,width_shift_range = 0.1,shear_range = 0.1,zoom_range = 0.2)"
   ]
  },
  {
   "cell_type": "code",
   "execution_count": 25,
   "id": "7e3dd30f",
   "metadata": {},
   "outputs": [],
   "source": [
    "dataGen.fit(train_features)"
   ]
  },
  {
   "cell_type": "code",
   "execution_count": 26,
   "id": "9b605f71",
   "metadata": {},
   "outputs": [],
   "source": [
    "batches = dataGen.flow(train_features,train_targets,batch_size = 20)"
   ]
  },
  {
   "cell_type": "code",
   "execution_count": 27,
   "id": "d39b79ff",
   "metadata": {},
   "outputs": [
    {
     "data": {
      "text/plain": [
       "1392"
      ]
     },
     "execution_count": 27,
     "metadata": {},
     "output_type": "execute_result"
    }
   ],
   "source": [
    "len(batches)"
   ]
  },
  {
   "cell_type": "code",
   "execution_count": 28,
   "id": "4a5b2737",
   "metadata": {},
   "outputs": [],
   "source": [
    "images,labels = next(batches)"
   ]
  },
  {
   "cell_type": "code",
   "execution_count": 29,
   "id": "0af5a3e5",
   "metadata": {},
   "outputs": [
    {
     "data": {
      "text/plain": [
       "(20, 32, 32, 1)"
      ]
     },
     "execution_count": 29,
     "metadata": {},
     "output_type": "execute_result"
    }
   ],
   "source": [
    "images.shape"
   ]
  },
  {
   "cell_type": "code",
   "execution_count": 30,
   "id": "9b271f12",
   "metadata": {},
   "outputs": [],
   "source": [
    "images = images.reshape(20,32,32)"
   ]
  },
  {
   "cell_type": "code",
   "execution_count": 31,
   "id": "9e50fcc6",
   "metadata": {},
   "outputs": [],
   "source": [
    "import matplotlib.pyplot as plt"
   ]
  },
  {
   "cell_type": "code",
   "execution_count": 32,
   "id": "db93f5ca",
   "metadata": {},
   "outputs": [
    {
     "data": {
      "image/png": "[encoded data removed]",
      "text/plain": [
       "<Figure size 432x288 with 1 Axes>"
      ]
     },
     "metadata": {
      "needs_background": "light"
     },
     "output_type": "display_data"
    }
   ],
   "source": [
    "plt.imshow(images[0])\n",
    "plt.show()"
   ]
  },
  {
   "cell_type": "code",
   "execution_count": 33,
   "id": "7109d5bf",
   "metadata": {},
   "outputs": [
    {
     "data": {
      "text/plain": [
       "<function matplotlib.pyplot.show(close=None, block=None)>"
      ]
     },
     "execution_count": 33,
     "metadata": {},
     "output_type": "execute_result"
    },
    {
     "data": {
      "image/png": "[encoded data removed]",
      "text/plain": [
       "<Figure size 720x720 with 20 Axes>"
      ]
     },
     "metadata": {
      "needs_background": "light"
     },
     "output_type": "display_data"
    }
   ],
   "source": [
    "plt.figure(figsize = (10,10))\n",
    "for i in range(20):\n",
    "    plt.subplot(4,5,i+1)\n",
    "    plt.imshow(images[i])\n",
    "plt.show"
   ]
  },
  {
   "cell_type": "code",
   "execution_count": 34,
   "id": "2344d45f",
   "metadata": {},
   "outputs": [],
   "source": [
    "from tensorflow.keras.utils import to_categorical"
   ]
  },
  {
   "cell_type": "code",
   "execution_count": 35,
   "id": "c66b315b",
   "metadata": {},
   "outputs": [],
   "source": [
    "train_targets = to_categorical(train_targets)"
   ]
  },
  {
   "cell_type": "code",
   "execution_count": 36,
   "id": "ee018479",
   "metadata": {},
   "outputs": [
    {
     "data": {
      "text/plain": [
       "(27832, 43)"
      ]
     },
     "execution_count": 36,
     "metadata": {},
     "output_type": "execute_result"
    }
   ],
   "source": [
    "train_targets.shape"
   ]
  },
  {
   "cell_type": "code",
   "execution_count": 37,
   "id": "25fc307e",
   "metadata": {},
   "outputs": [
    {
     "data": {
      "text/plain": [
       "(27832, 32, 32, 1)"
      ]
     },
     "execution_count": 37,
     "metadata": {},
     "output_type": "execute_result"
    }
   ],
   "source": [
    "train_features.shape"
   ]
  },
  {
   "cell_type": "markdown",
   "id": "0eaa7ee7",
   "metadata": {},
   "source": [
    "# Step-1 Specifying The Architecture"
   ]
  },
  {
   "cell_type": "code",
   "execution_count": 38,
   "id": "654f6f9b",
   "metadata": {},
   "outputs": [],
   "source": [
    "from tensorflow.keras.models import Sequential\n",
    "from tensorflow.keras.layers import Dense,Flatten,Conv2D,MaxPooling2D,Dropout"
   ]
  },
  {
   "cell_type": "code",
   "execution_count": 39,
   "id": "3cbce918",
   "metadata": {},
   "outputs": [],
   "source": [
    "model = Sequential()\n",
    "model.add(Conv2D(60,(3,3),activation = \"relu\",input_shape = (32,32,1)))\n",
    "\n",
    "model.add(Conv2D(60,(3,3),activation = \"relu\"))\n",
    "\n",
    "model.add(MaxPooling2D((2,2)))\n",
    "          \n",
    "model.add(Conv2D(30,(3,3),activation = \"relu\"))\n",
    "\n",
    "model.add(Conv2D(30,(3,3),activation = \"relu\"))\n",
    "\n",
    "model.add(Conv2D(30,(3,3),activation = \"relu\"))\n",
    "\n",
    "model.add(MaxPooling2D((2,2)))\n",
    "\n",
    "model.add(Dropout(0.5))\n",
    "\n",
    "model.add(Flatten())\n",
    "\n",
    "model.add(Dense(500,activation = \"relu\"))\n",
    "\n",
    "model.add(Dense(43,activation = \"softmax\"))"
   ]
  },
  {
   "cell_type": "markdown",
   "id": "9335b913",
   "metadata": {},
   "source": [
    "# Step:2 Compiling The Model"
   ]
  },
  {
   "cell_type": "code",
   "execution_count": 40,
   "id": "caccfdb3",
   "metadata": {},
   "outputs": [],
   "source": [
    "from tensorflow.keras.optimizers import Adam"
   ]
  },
  {
   "cell_type": "code",
   "execution_count": 41,
   "id": "a84e8134",
   "metadata": {},
   "outputs": [],
   "source": [
    "model.compile(Adam(learning_rate = 0.001),loss = \"categorical_crossentropy\",metrics = [\"accuracy\"])"
   ]
  },
  {
   "cell_type": "markdown",
   "id": "c60ae8d3",
   "metadata": {},
   "source": [
    "# step:3 Train The Model"
   ]
  },
  {
   "cell_type": "code",
   "execution_count": 42,
   "id": "2cb6a54d",
   "metadata": {},
   "outputs": [],
   "source": [
    "#generate new images combine with original images train on the combined images"
   ]
  },
  {
   "cell_type": "code",
   "execution_count": 43,
   "id": "1dc6a11e",
   "metadata": {},
   "outputs": [
    {
     "name": "stderr",
     "output_type": "stream",
     "text": [
      "C:\\Users\\Sai Varshith\\.conda\\envs\\tensorflow\\lib\\site-packages\\tensorflow\\python\\keras\\engine\\training.py:1940: UserWarning: `Model.fit_generator` is deprecated and will be removed in a future version. Please use `Model.fit`, which supports generators.\n",
      "  warnings.warn('`Model.fit_generator` is deprecated and '\n"
     ]
    },
    {
     "name": "stdout",
     "output_type": "stream",
     "text": [
      "Epoch 1/20\n",
      "1392/1392 [==============================] - 44s 31ms/step - loss: 2.0682 - accuracy: 0.4155\n",
      "Epoch 2/20\n",
      "1392/1392 [==============================] - 42s 30ms/step - loss: 0.7005 - accuracy: 0.7866\n",
      "Epoch 3/20\n",
      "1392/1392 [==============================] - 46s 33ms/step - loss: 0.4341 - accuracy: 0.8666\n",
      "Epoch 4/20\n",
      "1392/1392 [==============================] - 41s 29ms/step - loss: 0.3264 - accuracy: 0.8986\n",
      "Epoch 5/20\n",
      "1392/1392 [==============================] - 44s 32ms/step - loss: 0.2527 - accuracy: 0.9222\n",
      "Epoch 6/20\n",
      "1392/1392 [==============================] - 49s 35ms/step - loss: 0.2229 - accuracy: 0.9329\n",
      "Epoch 7/20\n",
      "1392/1392 [==============================] - 45s 32ms/step - loss: 0.1900 - accuracy: 0.9403\n",
      "Epoch 8/20\n",
      "1392/1392 [==============================] - 41s 29ms/step - loss: 0.1765 - accuracy: 0.9449\n",
      "Epoch 9/20\n",
      "1392/1392 [==============================] - 41s 29ms/step - loss: 0.1641 - accuracy: 0.9507\n",
      "Epoch 10/20\n",
      "1392/1392 [==============================] - 41s 30ms/step - loss: 0.1652 - accuracy: 0.95080s - loss: 0.1654 - accu\n",
      "Epoch 11/20\n",
      "1392/1392 [==============================] - 42s 30ms/step - loss: 0.1459 - accuracy: 0.9552\n",
      "Epoch 12/20\n",
      "1392/1392 [==============================] - 42s 30ms/step - loss: 0.1354 - accuracy: 0.9597\n",
      "Epoch 13/20\n",
      "1392/1392 [==============================] - 42s 30ms/step - loss: 0.1348 - accuracy: 0.9590\n",
      "Epoch 14/20\n",
      "1392/1392 [==============================] - 41s 29ms/step - loss: 0.1238 - accuracy: 0.9640\n",
      "Epoch 15/20\n",
      "1392/1392 [==============================] - 41s 29ms/step - loss: 0.1193 - accuracy: 0.9650\n",
      "Epoch 16/20\n",
      "1392/1392 [==============================] - 41s 29ms/step - loss: 0.1176 - accuracy: 0.9653\n",
      "Epoch 17/20\n",
      "1392/1392 [==============================] - 41s 29ms/step - loss: 0.1069 - accuracy: 0.9679\n",
      "Epoch 18/20\n",
      "1392/1392 [==============================] - 41s 30ms/step - loss: 0.1150 - accuracy: 0.9651\n",
      "Epoch 19/20\n",
      "1392/1392 [==============================] - 41s 29ms/step - loss: 0.1004 - accuracy: 0.9696\n",
      "Epoch 20/20\n",
      "1392/1392 [==============================] - 41s 30ms/step - loss: 0.1037 - accuracy: 0.9698\n"
     ]
    },
    {
     "data": {
      "text/plain": [
       "<tensorflow.python.keras.callbacks.History at 0x1b1b0d56460>"
      ]
     },
     "execution_count": 43,
     "metadata": {},
     "output_type": "execute_result"
    }
   ],
   "source": [
    "model.fit_generator(dataGen.flow(train_features,train_targets,batch_size = 20),epochs = 20)"
   ]
  },
  {
   "cell_type": "code",
   "execution_count": 44,
   "id": "e5d51edb",
   "metadata": {},
   "outputs": [],
   "source": [
    "ModelInJson = model.to_json()"
   ]
  },
  {
   "cell_type": "code",
   "execution_count": 45,
   "id": "3fab07d5",
   "metadata": {},
   "outputs": [],
   "source": [
    "abc = open(\"D:/Datasets/inmovidu_AI_Traffic.json\",\"w\")\n",
    "abc.write(ModelInJson)\n",
    "abc.close()"
   ]
  },
  {
   "cell_type": "code",
   "execution_count": 46,
   "id": "789b01d4",
   "metadata": {},
   "outputs": [],
   "source": [
    "model.save_weights(\"D:/Datasets/inmovidu_AI_Trafficweights.h5\")"
   ]
  },
  {
   "cell_type": "code",
   "execution_count": 47,
   "id": "df0a9623",
   "metadata": {},
   "outputs": [],
   "source": [
    "from keras.models import model_from_json"
   ]
  },
  {
   "cell_type": "code",
   "execution_count": 48,
   "id": "a58d1175",
   "metadata": {},
   "outputs": [],
   "source": [
    "abc = open(\"D:/Datasets/inmovidu_AI_Traffic.json\",\"r\")\n",
    "loaded_data = abc.read()\n",
    "loaded_model = model_from_json(loaded_data)\n",
    "loaded_model.load_weights(\"D:/Datasets/inmovidu_AI_Trafficweights.h5\")"
   ]
  },
  {
   "cell_type": "markdown",
   "id": "2085423b",
   "metadata": {},
   "source": [
    "# Step:4 Testing The Model By Using It For Predictions"
   ]
  },
  {
   "cell_type": "code",
   "execution_count": 49,
   "id": "4f73ada4",
   "metadata": {},
   "outputs": [],
   "source": [
    "capt = cv2.VideoCapture(0)\n"
   ]
  },
  {
   "cell_type": "code",
   "execution_count": 50,
   "id": "bcf2348f",
   "metadata": {},
   "outputs": [],
   "source": [
    "def preprocessing(image):\n",
    "    image = cv2.cvtColor(image,cv2.COLOR_BGR2GRAY)\n",
    "    image = image/255\n",
    "    return image"
   ]
  },
  {
   "cell_type": "code",
   "execution_count": 51,
   "id": "3e6fd76a",
   "metadata": {},
   "outputs": [],
   "source": [
    "def getClassName(classNo):\n",
    "    if classNo == 0: return 'Speed Limit 20km/hr'\n",
    "    elif classNo == 1: return 'Speed Limit 30km/hr'\n",
    "    elif classNo == 2: return 'Speed Limit 50km/hr'\n",
    "    elif classNo == 3: return 'Speed Limit 60km/hr'\n",
    "    elif classNo == 4: return 'Speed Limit 70km/hr'\n",
    "    elif classNo == 5: return 'Speed Limit 80km/hr'\n",
    "    elif classNo == 6: return 'End of Speed Limit of 80km/hr'\n",
    "    elif classNo == 7: return 'Speed Limit 100km/hr'\n",
    "    elif classNo == 8: return 'Speed Limit 120km/hr'\n",
    "    elif classNo == 9: return 'No Passing'\n",
    "    elif classNo == 10: return 'No Passing for vehicles over 3.5 metric tons'\n",
    "    elif classNo == 11: return 'Right of way at the next intersection'\n",
    "    elif classNo == 12: return 'PriorityRoad'\n",
    "    elif classNo == 13: return 'yeild'\n",
    "    elif classNo == 14: return 'stop'\n",
    "    elif classNo == 15: return 'No Vehciles'\n",
    "    elif classNo == 16: return 'Vehciles over 3.5 metric tons prohibited'\n",
    "    elif classNo == 17: return 'No Entry'\n",
    "    elif classNo == 18: return 'General Caution'\n",
    "    elif classNo == 19: return 'Dangerous Curve To The Left'\n",
    "    elif classNo == 20: return 'Dangerous Curve To The Right'\n",
    "    elif classNo == 21: return 'Double Curve'\n",
    "    elif classNo == 22: return 'Bumpy Road'\n",
    "    elif classNo == 23: return 'Slippery Road'\n",
    "    elif classNo == 24: return 'Road Narrows On The Right'\n",
    "    elif classNo == 25: return 'Road Work'\n",
    "    elif classNo == 26: return 'Traffic Signals'\n",
    "    elif classNo == 27: return 'Pedestrians'\n",
    "    elif classNo == 28: return 'Children Crossing'\n",
    "    elif classNo == 29: return 'Bicycle Crossing'\n",
    "    elif classNo == 30: return 'beware of Ice/snow'\n",
    "    elif classNo == 31: return 'Wild Animals Crossing'\n",
    "    elif classNo == 32: return 'End Of all speed And Passing Limits'\n",
    "    elif classNo == 33: return 'Turn Right a head'\n",
    "    elif classNo == 34: return 'Turn Left A Head'\n",
    "    elif classNo == 35: return 'ahead only'\n",
    "    elif classNo == 36: return 'Go Straight or right'\n",
    "    elif classNo == 37: return 'Go straight or left'\n",
    "    elif classNo == 38: return 'KeepRight'\n",
    "    elif classNo == 39: return 'KeepLeft'\n",
    "    elif classNo == 40: return 'RoundAbout Mandatory'\n",
    "    elif classNo == 41: return 'End Of No Passing'\n",
    "    elif classNo == 42: return 'End Of No Passing by vehcles over 3.5 metric tons'\n",
    "    \n"
   ]
  },
  {
   "cell_type": "code",
   "execution_count": null,
   "id": "6490df35",
   "metadata": {},
   "outputs": [
    {
     "name": "stderr",
     "output_type": "stream",
     "text": [
      "C:\\Users\\Sai Varshith\\.conda\\envs\\tensorflow\\lib\\site-packages\\tensorflow\\python\\keras\\engine\\sequential.py:455: UserWarning: `model.predict_classes()` is deprecated and will be removed after 2021-01-01. Please use instead:* `np.argmax(model.predict(x), axis=-1)`,   if your model does multi-class classification   (e.g. if it uses a `softmax` last-layer activation).* `(model.predict(x) > 0.5).astype(\"int32\")`,   if your model does binary classification   (e.g. if it uses a `sigmoid` last-layer activation).\n",
      "  warnings.warn('`model.predict_classes()` is deprecated and '\n"
     ]
    }
   ],
   "source": [
    "while True:\n",
    "    success,image = capt.read()\n",
    "    imagearr=np.asarray(image)\n",
    "    imagearr = cv2.resize(imagearr,(32,32))\n",
    "    imagearr = preprocessing(imagearr)\n",
    "    imagearr = imagearr.reshape(1,32,32,1)\n",
    "    predictions = loaded_model.predict(imagearr)\n",
    "    neuronindex = loaded_model.predict_classes(imagearr)\n",
    "    cv2.putText(image,\"Class:\",(20,35),cv2.FONT_HERSHEY_SIMPLEX,1,(0,0,255),2)\n",
    "    cv2.putText(image,\"Probability:\",(20,75),cv2.FONT_HERSHEY_SIMPLEX,1,(0,0,255),2)\n",
    "    MaxProbabilityValue = np.amax(predictions)\n",
    "    if MaxProbabilityValue>0.75:\n",
    "        cv2.putText(image,getClassName(neuronindex),(120,35),cv2.FONT_HERSHEY_COMPLEX,1,(200,100,30),2)\n",
    "        cv2.putText(image,str(MaxProbabilityValue*100) + \"%\",(170,75),cv2.FONT_HERSHEY_COMPLEX,1,(200,100,30),2)\n",
    "    cv2.imshow(\"ModelPrediction\",image)\n",
    "    AsciiValue = cv2.waitKey(1)\n",
    "    if AsciiValue == ord('q'):\n",
    "        cv2.destroyAllWindows()\n",
    "        break\n",
    "        \n",
    "    "
   ]
  },
  {
   "cell_type": "code",
   "execution_count": null,
   "id": "63063c88",
   "metadata": {},
   "outputs": [],
   "source": []
  },
  {
   "cell_type": "code",
   "execution_count": null,
   "id": "934689b9",
   "metadata": {},
   "outputs": [],
   "source": []
  },
  {
   "cell_type": "code",
   "execution_count": null,
   "id": "24005def",
   "metadata": {},
   "outputs": [],
   "source": []
  },
  {
   "cell_type": "code",
   "execution_count": null,
   "id": "4355dd99",
   "metadata": {},
   "outputs": [],
   "source": []
  },
  {
   "cell_type": "code",
   "execution_count": null,
   "id": "0b0138ee",
   "metadata": {},
   "outputs": [],
   "source": []
  },
  {
   "cell_type": "code",
   "execution_count": null,
   "id": "89b86be5",
   "metadata": {},
   "outputs": [],
   "source": []
  },
  {
   "cell_type": "code",
   "execution_count": null,
   "id": "1eff8928",
   "metadata": {},
   "outputs": [],
   "source": []
  },
  {
   "cell_type": "code",
   "execution_count": null,
   "id": "fe852af7",
   "metadata": {},
   "outputs": [],
   "source": []
  }
 ],
 "metadata": {
  "kernelspec": {
   "display_name": "Python 3",
   "language": "python",
   "name": "python3"
  },
  "language_info": {
   "codemirror_mode": {
    "name": "ipython",
    "version": 3
   },
   "file_extension": ".py",
   "mimetype": "text/x-python",
   "name": "python",
   "nbconvert_exporter": "python",
   "pygments_lexer": "ipython3",
   "version": "3.9.5"
  }
 },
 "nbformat": 4,
 "nbformat_minor": 5
}
